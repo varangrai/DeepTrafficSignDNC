{
 "cells": [
  {
   "cell_type": "markdown",
   "metadata": {},
   "source": [
    "# Training YOLOv3 Model for Traffic sign Detection In Darknet Framework"
   ]
  },
  {
   "cell_type": "markdown",
   "metadata": {},
   "source": [
    "## Imports and necessary files"
   ]
  },
  {
   "cell_type": "code",
   "execution_count": 1,
   "metadata": {
    "executionInfo": {
     "elapsed": 4808,
     "status": "ok",
     "timestamp": 1607355059521,
     "user": {
      "displayName": "Varang Rai",
      "photoUrl": "",
      "userId": "08399068625876040148"
     },
     "user_tz": -330
    },
    "id": "v2xg8JUzsymL"
   },
   "outputs": [],
   "source": [
    "import cv2\n",
    "import matplotlib.pyplot as plt"
   ]
  },
  {
   "cell_type": "code",
   "execution_count": 2,
   "metadata": {
    "colab": {
     "base_uri": "https://localhost:8080/"
    },
    "executionInfo": {
     "elapsed": 7910,
     "status": "ok",
     "timestamp": 1607355062662,
     "user": {
      "displayName": "Varang Rai",
      "photoUrl": "",
      "userId": "08399068625876040148"
     },
     "user_tz": -330
    },
    "id": "g67iVJdWqJAQ",
    "outputId": "72adc0b8-4bd3-4565-ba02-7d14f32cf5b2"
   },
   "outputs": [
    {
     "name": "stdout",
     "output_type": "stream",
     "text": [
      "Cloning into 'darknet'...\n",
      "remote: Enumerating objects: 21, done.\u001b[K\n",
      "remote: Counting objects: 100% (21/21), done.\u001b[K\n",
      "remote: Compressing objects: 100% (19/19), done.\u001b[K\n",
      "remote: Total 14583 (delta 6), reused 8 (delta 1), pack-reused 14562\u001b[K\n",
      "Receiving objects: 100% (14583/14583), 13.25 MiB | 20.19 MiB/s, done.\n",
      "Resolving deltas: 100% (9916/9916), done.\n",
      "/content/darknet\n"
     ]
    }
   ],
   "source": [
    "!git clone https://github.com/AlexeyAB/darknet    # clone darknet repo\n",
    "%cd darknet\n",
    "!sed -i 's/OPENCV=0/OPENCV=1/' Makefile\n",
    "!sed -i 's/GPU=0/GPU=1/' Makefile\n",
    "!sed -i 's/CUDNN=0/CUDNN=1/' Makefile\n",
    "!mkdir weights\n",
    "!wget https://pjreddie.com/media/files/yolov3.weights -P weights/\n",
    "!make"
   ]
  },
  {
   "cell_type": "code",
   "execution_count": null,
   "metadata": {
    "id": "fUdAPoJxsZ7I"
   },
   "outputs": [],
   "source": [
    "# define helper functions\n",
    "def imShow(path):\n",
    "  import cv2\n",
    "  import matplotlib.pyplot as plt\n",
    "  %matplotlib inline\n",
    "  image = cv2.imread(path)\n",
    "  height, width = image.shape[:2]\n",
    "  resized_image = cv2.resize(image,(3*width, 3*height), interpolation = cv2.INTER_CUBIC)\n",
    "  fig = plt.gcf()\n",
    "  fig.set_size_inches(18, 10)\n",
    "  plt.axis(\"off\")\n",
    "  plt.imshow(cv2.cvtColor(resized_image, cv2.COLOR_BGR2RGB))"
   ]
  },
  {
   "cell_type": "markdown",
   "metadata": {},
   "source": [
    "## Testing Model on COCO weights"
   ]
  },
  {
   "cell_type": "code",
   "execution_count": null,
   "metadata": {
    "id": "nSYLFA3OuZYv"
   },
   "outputs": [],
   "source": [
    "!./darknet detector test cfg/coco.data cfg/yolov3.cfg weights/yolov3.weights -thresh 0.85 -ext_output data/horses.jpg\n",
    "imShow('predictions.jpg')\n",
    "!./darknet detector demo cfg/coco.data cfg/yolov3.cfg weights/yolov3.weights -thresh 0.85 data/test-video.mp4 -out_filename result.avi"
   ]
  },
  {
   "cell_type": "markdown",
   "metadata": {},
   "source": [
    "## Loading Custom Data Files"
   ]
  },
  {
   "cell_type": "code",
   "execution_count": null,
   "metadata": {
    "id": "M2KTXUb26sdU"
   },
   "outputs": [],
   "source": [
    "%cp /content/drive/MyDrive/Colab\\ Notebooks/Recogsign/Udemy/ts/ts_data.data /content/darknet/cfg\n",
    "%cp /content/darknet/cfg/yolov3.cfg /content/darknet/cfg/yolov3_ts_train.cfg\n",
    "%cp /content/darknet/cfg/yolov3.cfg /content/darknet/cfg/yolov3_ts_test.cfg"
   ]
  },
  {
   "cell_type": "markdown",
   "metadata": {},
   "source": [
    "## Loading pretrained model"
   ]
  },
  {
   "cell_type": "code",
   "execution_count": null,
   "metadata": {
    "colab": {
     "base_uri": "https://localhost:8080/"
    },
    "executionInfo": {
     "elapsed": 59677,
     "status": "ok",
     "timestamp": 1606957998115,
     "user": {
      "displayName": "Varang Rai",
      "photoUrl": "",
      "userId": "08399068625876040148"
     },
     "user_tz": -330
    },
    "id": "DJZQLx62KByo",
    "outputId": "dbfaf343-8075-4bef-b1a3-21bdb9efaa86"
   },
   "outputs": [
    {
     "name": "stdout",
     "output_type": "stream",
     "text": [
      "--2020-12-03 01:12:21--  https://pjreddie.com/media/files/darknet53.conv.74\n",
      "Resolving pjreddie.com (pjreddie.com)... 128.208.4.108\n",
      "Connecting to pjreddie.com (pjreddie.com)|128.208.4.108|:443... connected.\n",
      "HTTP request sent, awaiting response... 200 OK\n",
      "Length: 162482580 (155M) [application/octet-stream]\n",
      "Saving to: ‘darknet53.conv.74’\n",
      "\n",
      "darknet53.conv.74   100%[===================>] 154.96M  3.38MB/s    in 59s     \n",
      "\n",
      "2020-12-03 01:13:20 (2.64 MB/s) - ‘darknet53.conv.74’ saved [162482580/162482580]\n",
      "\n"
     ]
    }
   ],
   "source": [
    "!wget https://pjreddie.com/media/files/darknet53.conv.74 -P weights/"
   ]
  },
  {
   "cell_type": "code",
   "execution_count": null,
   "metadata": {
    "id": "AuvupuaDLX7k"
   },
   "outputs": [],
   "source": [
    "cat /content/drive/MyDrive/Colab\\ Notebooks/Recogsign/Udemy/ts/train.txt"
   ]
  },
  {
   "cell_type": "markdown",
   "metadata": {},
   "source": [
    "## Training YOLOv3 model on Traffic Sign Dataset"
   ]
  },
  {
   "cell_type": "code",
   "execution_count": null,
   "metadata": {
    "id": "t5KVcn1uFVcd"
   },
   "outputs": [],
   "source": [
    "!./darknet detector train cfg/ts_data.data cfg/yolov3_ts_train.cfg weights/darknet53.conv.74 -dont_show"
   ]
  }
 ],
 "metadata": {
  "accelerator": "GPU",
  "colab": {
   "authorship_tag": "ABX9TyNhV5IUsJXzzWG66LBj+UcX",
   "collapsed_sections": [],
   "mount_file_id": "1IhjluJ5O0kedMRiQW4-S-KQNlHUURJuF",
   "name": "YOLO on video.ipynb",
   "provenance": []
  },
  "kernelspec": {
   "display_name": "Python 3",
   "language": "python",
   "name": "python3"
  },
  "language_info": {
   "codemirror_mode": {
    "name": "ipython",
    "version": 3
   },
   "file_extension": ".py",
   "mimetype": "text/x-python",
   "name": "python",
   "nbconvert_exporter": "python",
   "pygments_lexer": "ipython3",
   "version": "3.7.6"
  }
 },
 "nbformat": 4,
 "nbformat_minor": 1
}
